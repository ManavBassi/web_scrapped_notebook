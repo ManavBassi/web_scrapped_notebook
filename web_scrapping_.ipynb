{
  "nbformat": 4,
  "nbformat_minor": 0,
  "metadata": {
    "colab": {
      "provenance": [],
      "gpuType": "T4"
    },
    "kernelspec": {
      "name": "python3",
      "display_name": "Python 3"
    },
    "language_info": {
      "name": "python"
    },
    "accelerator": "GPU"
  },
  "cells": [
    {
      "cell_type": "code",
      "execution_count": 6,
      "metadata": {
        "id": "95bZc1ySP30x"
      },
      "outputs": [],
      "source": [
        "import numpy as np\n",
        "import pandas as pd\n",
        "import requests\n",
        "from bs4 import BeautifulSoup\n",
        "\n"
      ]
    },
    {
      "cell_type": "code",
      "source": [
        "url = 'https://www.linkedin.com/jobs/search?keywords=&location=india&geoId=&trk=public_jobs_jobs-search-bar_search-submit&position=1&pageNum=0'\n",
        "headers = {\n",
        "    'User-Agent': 'Mozilla/5.0 (Windows NT 10.0; Win64; x64) '\n",
        "                  'AppleWebKit/537.36 (KHTML, like Gecko) '\n",
        "                  'Chrome/122.0.0.0 Safari/537.36',\n",
        "    'Accept-Language': 'en-US,en;q=0.9',\n",
        "    'Accept-Encoding': 'gzip, deflate, br',\n",
        "    'Accept': 'text/html,application/xhtml+xml,application/xml;q=0.9,image/webp,*/*;q=0.8',\n",
        "    'Connection': 'keep-alive',\n",
        "    'Referer': 'https://www.google.com/',\n",
        "}\n",
        "webpage = requests.get(url, headers=headers).text\n",
        "soup=BeautifulSoup(webpage,'lxml')\n",
        "\n",
        "\n"
      ],
      "metadata": {
        "id": "k6oOs0IgRAC4"
      },
      "execution_count": 7,
      "outputs": []
    },
    {
      "cell_type": "code",
      "source": [
        "company=soup.find_all('div',class_='base-search-card__info')"
      ],
      "metadata": {
        "id": "B5paxtNNVDyj"
      },
      "execution_count": 8,
      "outputs": []
    },
    {
      "cell_type": "code",
      "source": [
        "Designation=[]\n",
        "Company_Name=[]\n",
        "Work_location=[]\n",
        "for i in company:\n",
        "  Designation.append(i.find('h3',class_='base-search-card__title').text.strip())\n",
        "  Company_Name.append(i.find('h4',class_='base-search-card__subtitle').text.strip())\n",
        "  Work_location.append(i.find('span',class_='job-search-card__location').text.strip())"
      ],
      "metadata": {
        "id": "q4aVfMaHTSrH"
      },
      "execution_count": 9,
      "outputs": []
    },
    {
      "cell_type": "code",
      "source": [
        "d={'Designation':Designation,\"Company_Name\":Company_Name,\"Work_location\":Work_location}\n",
        "df=pd.DataFrame(d)"
      ],
      "metadata": {
        "id": "xAkQTwPeURSC"
      },
      "execution_count": 10,
      "outputs": []
    },
    {
      "cell_type": "code",
      "source": [
        "final_df=pd.DataFrame()\n",
        "for j in range(0,1000):\n",
        "  url = 'https://www.linkedin.com/jobs/search?keywords=&location=United%20States&geoId=103644278&trk=public_jobs_jobs-search-bar_search-submit&position=1&pageNum={}'.format(j)\n",
        "  headers = {\n",
        "      'User-Agent': 'Mozilla/5.0 (Windows NT 10.0; Win64; x64) '\n",
        "                    'AppleWebKit/537.36 (KHTML, like Gecko) '\n",
        "                    'Chrome/122.0.0.0 Safari/537.36',\n",
        "      'Accept-Language': 'en-US,en;q=0.9',\n",
        "      'Accept-Encoding': 'gzip, deflate, br',\n",
        "      'Accept': 'text/html,application/xhtml+xml,application/xml;q=0.9,image/webp,*/*;q=0.8',\n",
        "      'Connection': 'keep-alive',\n",
        "      'Referer': 'https://www.google.com/',\n",
        "  }\n",
        "  webpage = requests.get(url, headers=headers).text\n",
        "  soup=BeautifulSoup(webpage,'lxml')\n",
        "  company=soup.find_all('div',class_='base-search-card__info')\n",
        "  Designation=[]\n",
        "  Company_Name=[]\n",
        "  Work_location=[]\n",
        "  for i in company:\n",
        "    Designation.append(i.find('h3',class_='base-search-card__title').text.strip())\n",
        "    Company_Name.append(i.find('h4',class_='base-search-card__subtitle').text.strip())\n",
        "    Work_location.append(i.find('span',class_='job-search-card__location').text.strip())\n",
        "  d={'Designation':Designation,\"Company_Name\":Company_Name,\"Work_location\":Work_location}\n",
        "  df=pd.DataFrame(d)\n",
        "  final_df=pd.concat([final_df,df],ignore_index=True)"
      ],
      "metadata": {
        "id": "2BV_6X3sY1qR"
      },
      "execution_count": 14,
      "outputs": []
    },
    {
      "cell_type": "code",
      "source": [
        "duplicate=final_df.copy()\n",
        "duplicate.shape"
      ],
      "metadata": {
        "colab": {
          "base_uri": "https://localhost:8080/"
        },
        "id": "DDYHbesKvdSG",
        "outputId": "efed4e5d-49b7-4a7e-d94a-e4e9c9bf5606"
      },
      "execution_count": 15,
      "outputs": [
        {
          "data": {
            "text/plain": [
              "(58680, 3)"
            ]
          },
          "execution_count": 15,
          "metadata": {},
          "output_type": "execute_result"
        }
      ]
    },
    {
      "cell_type": "code",
      "source": [
        "demp=pd.read_csv('job_data.csv')\n",
        "demp.nunique()"
      ],
      "metadata": {
        "colab": {
          "base_uri": "https://localhost:8080/",
          "height": 209
        },
        "id": "rCvAnxwcwND-",
        "outputId": "1e1de7cf-1706-4e8c-a1c7-43afa405364f"
      },
      "execution_count": 19,
      "outputs": [
        {
          "output_type": "execute_result",
          "data": {
            "text/plain": [
              "Unnamed: 0       59278\n",
              "Designation        206\n",
              "Company_Name       120\n",
              "Work_location       92\n",
              "dtype: int64"
            ],
            "text/html": [
              "<div>\n",
              "<style scoped>\n",
              "    .dataframe tbody tr th:only-of-type {\n",
              "        vertical-align: middle;\n",
              "    }\n",
              "\n",
              "    .dataframe tbody tr th {\n",
              "        vertical-align: top;\n",
              "    }\n",
              "\n",
              "    .dataframe thead th {\n",
              "        text-align: right;\n",
              "    }\n",
              "</style>\n",
              "<table border=\"1\" class=\"dataframe\">\n",
              "  <thead>\n",
              "    <tr style=\"text-align: right;\">\n",
              "      <th></th>\n",
              "      <th>0</th>\n",
              "    </tr>\n",
              "  </thead>\n",
              "  <tbody>\n",
              "    <tr>\n",
              "      <th>Unnamed: 0</th>\n",
              "      <td>59278</td>\n",
              "    </tr>\n",
              "    <tr>\n",
              "      <th>Designation</th>\n",
              "      <td>206</td>\n",
              "    </tr>\n",
              "    <tr>\n",
              "      <th>Company_Name</th>\n",
              "      <td>120</td>\n",
              "    </tr>\n",
              "    <tr>\n",
              "      <th>Work_location</th>\n",
              "      <td>92</td>\n",
              "    </tr>\n",
              "  </tbody>\n",
              "</table>\n",
              "</div><br><label><b>dtype:</b> int64</label>"
            ]
          },
          "metadata": {},
          "execution_count": 19
        }
      ]
    },
    {
      "cell_type": "code",
      "source": [
        "final_jobdata=duplicate.drop_duplicates()\n",
        "final_jobdata.nunique()"
      ],
      "metadata": {
        "colab": {
          "base_uri": "https://localhost:8080/",
          "height": 178
        },
        "id": "c5OpmjKOxBIw",
        "outputId": "6ddbd323-388d-4df4-800d-c8ead43d63fc"
      },
      "execution_count": 20,
      "outputs": [
        {
          "output_type": "execute_result",
          "data": {
            "text/plain": [
              "Designation      201\n",
              "Company_Name     109\n",
              "Work_location     84\n",
              "dtype: int64"
            ],
            "text/html": [
              "<div>\n",
              "<style scoped>\n",
              "    .dataframe tbody tr th:only-of-type {\n",
              "        vertical-align: middle;\n",
              "    }\n",
              "\n",
              "    .dataframe tbody tr th {\n",
              "        vertical-align: top;\n",
              "    }\n",
              "\n",
              "    .dataframe thead th {\n",
              "        text-align: right;\n",
              "    }\n",
              "</style>\n",
              "<table border=\"1\" class=\"dataframe\">\n",
              "  <thead>\n",
              "    <tr style=\"text-align: right;\">\n",
              "      <th></th>\n",
              "      <th>0</th>\n",
              "    </tr>\n",
              "  </thead>\n",
              "  <tbody>\n",
              "    <tr>\n",
              "      <th>Designation</th>\n",
              "      <td>201</td>\n",
              "    </tr>\n",
              "    <tr>\n",
              "      <th>Company_Name</th>\n",
              "      <td>109</td>\n",
              "    </tr>\n",
              "    <tr>\n",
              "      <th>Work_location</th>\n",
              "      <td>84</td>\n",
              "    </tr>\n",
              "  </tbody>\n",
              "</table>\n",
              "</div><br><label><b>dtype:</b> int64</label>"
            ]
          },
          "metadata": {},
          "execution_count": 20
        }
      ]
    },
    {
      "cell_type": "code",
      "source": [
        "final_jobdata.to_csv('US_jobdata.csv')"
      ],
      "metadata": {
        "id": "IxUynyXWxZKy"
      },
      "execution_count": 17,
      "outputs": []
    },
    {
      "cell_type": "code",
      "source": [],
      "metadata": {
        "id": "G9syh8Z8DBGs"
      },
      "execution_count": null,
      "outputs": []
    }
  ]
}